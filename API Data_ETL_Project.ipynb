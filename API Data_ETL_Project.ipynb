{
 "cells": [
  {
   "cell_type": "markdown",
   "metadata": {},
   "source": [
    "<p style=\"text-align:center\">\n",
    "    <a href=\"https://skills.network/?utm_medium=Exinfluencer&utm_source=Exinfluencer&utm_content=000026UJ&utm_term=10006555&utm_id=NA-SkillsNetwork-Channel-SkillsNetworkCoursesIBMDeveloperSkillsNetworkPY0221ENSkillsNetwork899-2023-01-01\">\n",
    "    <img src=\"https://cf-courses-data.s3.us.cloud-object-storage.appdomain.cloud/assets/logos/SN_web_lightmode.png\" width=\"200\" alt=\"Skills Network Logo\"  />\n",
    "    </a>\n",
    "</p>\n"
   ]
  },
  {
   "cell_type": "markdown",
   "metadata": {},
   "source": [
    "# Data Engineer - Extract API Data\n"
   ]
  },
  {
   "cell_type": "markdown",
   "metadata": {},
   "source": [
    "Estimated time needed: **20** minutes\n"
   ]
  },
  {
   "cell_type": "markdown",
   "metadata": {},
   "source": [
    "## Objectives\n",
    "\n",
    "In this part you will:\n",
    "\n",
    "-   Collect exchange rate data using an API\n",
    "-   Store the data as a CSV\n"
   ]
  },
  {
   "cell_type": "markdown",
   "metadata": {},
   "source": [
    "For this lab, we are going to be using Python and several Python libraries. Some of these libraries might be installed in your lab environment or in SN Labs. Others may need to be installed by you. The cells below will install these libraries when executed.\n"
   ]
  },
  {
   "cell_type": "code",
   "execution_count": 1,
   "metadata": {
    "tags": []
   },
   "outputs": [],
   "source": [
    "#!mamba install pandas==1.3.3 -y\n",
    "#!mamba install requests==2.26.0 -y"
   ]
  },
  {
   "cell_type": "markdown",
   "metadata": {},
   "source": [
    "## Imports\n",
    "\n",
    "Import any additional libraries you may need here.\n"
   ]
  },
  {
   "cell_type": "code",
   "execution_count": 2,
   "metadata": {
    "tags": []
   },
   "outputs": [],
   "source": [
    "import requests\n",
    "import pandas as pd"
   ]
  },
  {
   "cell_type": "markdown",
   "metadata": {},
   "source": [
    "## Extract Data Using an API\n"
   ]
  },
  {
   "cell_type": "markdown",
   "metadata": {},
   "source": [
    "Using ExchangeRate-API we will extract currency exchange rate data. Use the below steps to get the access key and to get the data. \n",
    "1. Open the url : https://exchangeratesapi.io/ and click on **Get Free API Key**. \n",
    "2. Subscribe for Free plan and Sign-in with the Google Account. \n",
    "3. Once the account is created you will be redirected to https://apilayer.com website.\n",
    "2. Now, click on the **user icon** and click **Account** as shown below:\n",
    "\n",
    "<img src=\"https://cf-courses-data.s3.us.cloud-object-storage.appdomain.cloud/IBMDeveloperSkillsNetwork-PY0221EN-SkillsNetwork/labs/module%206/Final%20Assignment/Images/account.png\">\n",
    "\n",
    "3. Scroll down and you will get the API Key section. Copy the API key and use in the url in Question 1.\n"
   ]
  },
  {
   "cell_type": "markdown",
   "metadata": {},
   "source": [
    "### Call the API\n",
    "\n",
    " <b> Question 1</b> Using the `requests` library call the endpoint given above and save the text, remember the first few characters of the output: \n"
   ]
  },
  {
   "cell_type": "code",
   "execution_count": 3,
   "metadata": {
    "tags": []
   },
   "outputs": [],
   "source": [
    "# Write your code here\n",
    "url = \"http://api.exchangeratesapi.io/v1/latest?base=EUR&access_key=5067c88d52a519407d50bca8455fe188\"\n",
    "res=requests.get(url)\n",
    "apitext=res.text"
   ]
  },
  {
   "cell_type": "code",
   "execution_count": 4,
   "metadata": {
    "tags": []
   },
   "outputs": [
    {
     "data": {
      "text/plain": [
       "'{\"success\":true,\"timestamp\":1688286183,\"base\":\"EUR\",\"date\":\"2023-07-02\",\"rates\":{\"AED\":4.009632,\"AFN\":95.523117,\"ALL\":106.29878,\"AMD\":421.440125,\"ANG\":1.967623,\"AOA\":901.155618,\"ARS\":279.956979,\"AUD\":1.638393,\"AWG\":1.967686,\"AZN\":1.860127,\"BAM\":1.967303,\"BBD\":2.204289,\"BDT\":118.100548,\"BGN\":1.95683,\"BHD\":0.411134,\"BIF\":3102.449323,\"BMD\":1.091643,\"BND\":1.481154,\"BOB\":7.544181,\"BRL\":5.228756,\"BSD\":1.091683,\"BTC\":3.5763742e-5,\"BTN\":89.53635,\"BWP\":14.813481,\"BYN\":2.755638,\"BYR\":21396.202226,\"BZD\":2.200567,\"CAD\":1.445936,\"CDF\":2630.859954,\"CHF\":0.976735,\"CLF\":0.031708,\"CLP\":874.919524,\"CNY\":7.918455,\"COP\":4549.967902,\"CRC\":592.670849,\"CUC\":1.091643,\"CUP\":28.928539,\"CVE\":110.66535,\"CZK\":23.771185,\"DJF\":194.007218,\"DKK\":7.449863,\"DOP\":60.422868,\"DZD\":148.254979,\"EGP\":33.696176,\"ERN\":16.374645,\"ETB\":59.607938,\"EUR\":1,\"FJD\":2.431858,\"FKP\":0.860719,\"GBP\":0.859122,\"GEL\":2.849615,\"GGP\":0.860719,\"GHS\":12.499738,\"GIP\":0.860719,\"GMD\":65.007764,\"GNF\":9442.712085,\"GTQ\":8.56516,\"GYD\":230.902229,\"HKD\":8.554824,\"HNL\":26.985838,\"HRK\":7.615424,\"HTG\":151.204109,\"HUF\":373.018588,\"IDR\":16418.637772,\"ILS\":4.049297,\"IMP\":0.860719,\"INR\":89.619795,\"IQD\":1430.052292,\"IRR\":46121.915897,\"ISK\":148.758609,\"JEP\":0.860719,\"JMD\":168.34433,\"JOD\":0.774525,\"JPY\":157.529582,\"KES\":153.489154,\"KGS\":95.192909,\"KHR\":4510.669138,\"KMF\":492.576643,\"KPW\":982.478674,\"KRW\":1436.933781,\"KWD\":0.335659,\"KYD\":0.909811,\"KZT\":492.937752,\"LAK\":20473.764297,\"LBP\":16647.555684,\"LKR\":336.263091,\"LRD\":196.609019,\"LSL\":20.556054,\"LTL\":3.223338,\"LVL\":0.660324,\"LYD\":5.251218,\"MAD\":10.804033,\"MDL\":20.006162,\"MGA\":4945.143036,\"MKD\":61.881831,\"MMK\":2292.58402,\"MNT\":3751.039531,\"MOP\":8.812106,\"MRO\":389.716353,\"MUR\":49.667831,\"MVR\":16.713467,\"MWK\":1147.866665,\"MXN\":18.693626,\"MYR\":5.095248,\"MZN\":69.04683,\"NAD\":20.556049,\"NGN\":829.943813,\"NIO\":39.926884,\"NOK\":11.803106,\"NPR\":143.257959,\"NZD\":1.78663,\"OMR\":0.420294,\"PAB\":1.091683,\"PEN\":3.956664,\"PGK\":3.842993,\"PHP\":60.339516,\"PKR\":312.759754,\"PLN\":4.43652,\"PYG\":7932.381611,\"QAR\":3.974714,\"RON\":4.961559,\"RSD\":117.319278,\"RUB\":96.96632,\"RWF\":1271.764061,\"SAR\":4.094543,\"SBD\":9.08797,\"SCR\":14.613535,\"SDG\":656.627262,\"SEK\":11.775775,\"SGD\":1.476124,\"SHP\":1.328257,\"SLE\":20.675778,\"SLL\":21559.949041,\"SOS\":620.603029,\"SRD\":41.537419,\"STD\":22594.805475,\"SVC\":9.552857,\"SYP\":2742.241415,\"SZL\":20.556041,\"THB\":38.502651,\"TJS\":11.932617,\"TMT\":3.82075,\"TND\":3.349202,\"TOP\":2.586144,\"TRY\":28.438504,\"TTD\":7.404362,\"TWD\":34.017018,\"TZS\":2636.31814,\"UAH\":40.319352,\"UGX\":4006.462983,\"USD\":1.091643,\"UYU\":41.089881,\"UZS\":12592.102032,\"VEF\":3033974.098353,\"VES\":30.369299,\"VND\":25746.399464,\"VUV\":129.818293,\"WST\":2.929,\"XAF\":659.81502,\"XAG\":0.047961,\"XAU\":0.000569,\"XCD\":2.95022,\"XDR\":0.818772,\"XOF\":653.352245,\"XPF\":119.757159,\"YER\":273.293214,\"ZAR\":20.56192,\"ZMK\":9826.100626,\"ZMW\":19.268844,\"ZWL\":351.508591}}'"
      ]
     },
     "execution_count": 4,
     "metadata": {},
     "output_type": "execute_result"
    }
   ],
   "source": [
    "apitext"
   ]
  },
  {
   "cell_type": "markdown",
   "metadata": {},
   "source": [
    "### Save as DataFrame\n",
    "\n",
    " <b> Question 2</b>  Using the data gathered turn it into a `pandas` dataframe. The dataframe should have the Currency as the index and `Rate` as their columns. Make sure to drop unnecessary columns.\n"
   ]
  },
  {
   "cell_type": "code",
   "execution_count": 7,
   "metadata": {
    "tags": []
   },
   "outputs": [
    {
     "data": {
      "text/html": [
       "<div>\n",
       "<style scoped>\n",
       "    .dataframe tbody tr th:only-of-type {\n",
       "        vertical-align: middle;\n",
       "    }\n",
       "\n",
       "    .dataframe tbody tr th {\n",
       "        vertical-align: top;\n",
       "    }\n",
       "\n",
       "    .dataframe thead th {\n",
       "        text-align: right;\n",
       "    }\n",
       "</style>\n",
       "<table border=\"1\" class=\"dataframe\">\n",
       "  <thead>\n",
       "    <tr style=\"text-align: right;\">\n",
       "      <th></th>\n",
       "      <th>success</th>\n",
       "      <th>timestamp</th>\n",
       "      <th>base</th>\n",
       "      <th>date</th>\n",
       "      <th>rates</th>\n",
       "    </tr>\n",
       "  </thead>\n",
       "  <tbody>\n",
       "    <tr>\n",
       "      <th>AED</th>\n",
       "      <td>True</td>\n",
       "      <td>2023-07-02 08:23:03</td>\n",
       "      <td>EUR</td>\n",
       "      <td>2023-07-02</td>\n",
       "      <td>4.009632</td>\n",
       "    </tr>\n",
       "    <tr>\n",
       "      <th>AFN</th>\n",
       "      <td>True</td>\n",
       "      <td>2023-07-02 08:23:03</td>\n",
       "      <td>EUR</td>\n",
       "      <td>2023-07-02</td>\n",
       "      <td>95.523117</td>\n",
       "    </tr>\n",
       "    <tr>\n",
       "      <th>ALL</th>\n",
       "      <td>True</td>\n",
       "      <td>2023-07-02 08:23:03</td>\n",
       "      <td>EUR</td>\n",
       "      <td>2023-07-02</td>\n",
       "      <td>106.298780</td>\n",
       "    </tr>\n",
       "    <tr>\n",
       "      <th>AMD</th>\n",
       "      <td>True</td>\n",
       "      <td>2023-07-02 08:23:03</td>\n",
       "      <td>EUR</td>\n",
       "      <td>2023-07-02</td>\n",
       "      <td>421.440125</td>\n",
       "    </tr>\n",
       "    <tr>\n",
       "      <th>ANG</th>\n",
       "      <td>True</td>\n",
       "      <td>2023-07-02 08:23:03</td>\n",
       "      <td>EUR</td>\n",
       "      <td>2023-07-02</td>\n",
       "      <td>1.967623</td>\n",
       "    </tr>\n",
       "  </tbody>\n",
       "</table>\n",
       "</div>"
      ],
      "text/plain": [
       "     success           timestamp base       date       rates\n",
       "AED     True 2023-07-02 08:23:03  EUR 2023-07-02    4.009632\n",
       "AFN     True 2023-07-02 08:23:03  EUR 2023-07-02   95.523117\n",
       "ALL     True 2023-07-02 08:23:03  EUR 2023-07-02  106.298780\n",
       "AMD     True 2023-07-02 08:23:03  EUR 2023-07-02  421.440125\n",
       "ANG     True 2023-07-02 08:23:03  EUR 2023-07-02    1.967623"
      ]
     },
     "execution_count": 7,
     "metadata": {},
     "output_type": "execute_result"
    }
   ],
   "source": [
    "# Turn the data into a dataframe\n",
    "data=pd.read_json(apitext)\n",
    "data.head()"
   ]
  },
  {
   "cell_type": "code",
   "execution_count": 9,
   "metadata": {
    "tags": []
   },
   "outputs": [
    {
     "data": {
      "text/html": [
       "<div>\n",
       "<style scoped>\n",
       "    .dataframe tbody tr th:only-of-type {\n",
       "        vertical-align: middle;\n",
       "    }\n",
       "\n",
       "    .dataframe tbody tr th {\n",
       "        vertical-align: top;\n",
       "    }\n",
       "\n",
       "    .dataframe thead th {\n",
       "        text-align: right;\n",
       "    }\n",
       "</style>\n",
       "<table border=\"1\" class=\"dataframe\">\n",
       "  <thead>\n",
       "    <tr style=\"text-align: right;\">\n",
       "      <th></th>\n",
       "      <th>rates</th>\n",
       "    </tr>\n",
       "  </thead>\n",
       "  <tbody>\n",
       "    <tr>\n",
       "      <th>AED</th>\n",
       "      <td>4.009632</td>\n",
       "    </tr>\n",
       "    <tr>\n",
       "      <th>AFN</th>\n",
       "      <td>95.523117</td>\n",
       "    </tr>\n",
       "    <tr>\n",
       "      <th>ALL</th>\n",
       "      <td>106.298780</td>\n",
       "    </tr>\n",
       "    <tr>\n",
       "      <th>AMD</th>\n",
       "      <td>421.440125</td>\n",
       "    </tr>\n",
       "    <tr>\n",
       "      <th>ANG</th>\n",
       "      <td>1.967623</td>\n",
       "    </tr>\n",
       "    <tr>\n",
       "      <th>...</th>\n",
       "      <td>...</td>\n",
       "    </tr>\n",
       "    <tr>\n",
       "      <th>YER</th>\n",
       "      <td>273.293214</td>\n",
       "    </tr>\n",
       "    <tr>\n",
       "      <th>ZAR</th>\n",
       "      <td>20.561920</td>\n",
       "    </tr>\n",
       "    <tr>\n",
       "      <th>ZMK</th>\n",
       "      <td>9826.100626</td>\n",
       "    </tr>\n",
       "    <tr>\n",
       "      <th>ZMW</th>\n",
       "      <td>19.268844</td>\n",
       "    </tr>\n",
       "    <tr>\n",
       "      <th>ZWL</th>\n",
       "      <td>351.508591</td>\n",
       "    </tr>\n",
       "  </tbody>\n",
       "</table>\n",
       "<p>170 rows × 1 columns</p>\n",
       "</div>"
      ],
      "text/plain": [
       "           rates\n",
       "AED     4.009632\n",
       "AFN    95.523117\n",
       "ALL   106.298780\n",
       "AMD   421.440125\n",
       "ANG     1.967623\n",
       "..           ...\n",
       "YER   273.293214\n",
       "ZAR    20.561920\n",
       "ZMK  9826.100626\n",
       "ZMW    19.268844\n",
       "ZWL   351.508591\n",
       "\n",
       "[170 rows x 1 columns]"
      ]
     },
     "execution_count": 9,
     "metadata": {},
     "output_type": "execute_result"
    }
   ],
   "source": [
    "# Drop unnescessary columns\n",
    "data.drop(columns=['success','timestamp','base','date'],inplace=True)\n",
    "data"
   ]
  },
  {
   "cell_type": "markdown",
   "metadata": {},
   "source": [
    "### Load the Data\n",
    "\n",
    "Using the dataframe save it as a CSV names `exchange_rates_1.csv`.\n"
   ]
  },
  {
   "cell_type": "code",
   "execution_count": 10,
   "metadata": {
    "tags": []
   },
   "outputs": [],
   "source": [
    "# Save the Dataframe\n",
    "data.to_csv('exchange_rates_1.csv')"
   ]
  },
  {
   "cell_type": "markdown",
   "metadata": {},
   "source": [
    "Your CSV should be in this format with more currencies\n",
    "\n",
    "| | Rates |\n",
    "| ------- | ------- |\n",
    "|  AED| 4.398618    |\n",
    "|  AFN| 92.917693   |  \n",
    "|  ALL| 123.099093  |\n",
    "|  AMD| 621.935674  |\n",
    "|  ANG| 2.149648    | \n"
   ]
  },
  {
   "cell_type": "markdown",
   "metadata": {},
   "source": [
    "## Authors\n"
   ]
  },
  {
   "cell_type": "markdown",
   "metadata": {},
   "source": [
    "Ramesh Sannareddy, Joseph Santarcangelo and Azim Hirjani\n"
   ]
  },
  {
   "cell_type": "markdown",
   "metadata": {},
   "source": [
    "### Other Contributors\n"
   ]
  },
  {
   "cell_type": "markdown",
   "metadata": {},
   "source": [
    "Rav Ahuja\n"
   ]
  },
  {
   "cell_type": "markdown",
   "metadata": {},
   "source": [
    "## Change Log\n"
   ]
  },
  {
   "cell_type": "markdown",
   "metadata": {},
   "source": [
    "| Date (YYYY-MM-DD) | Version | Changed By        | Change Description                 |\n",
    "| ----------------- | ------- | ----------------- | ---------------------------------- |\n",
    "| 2022-05-06        | 0.3     | Malika            | Updated instructions to get the API and the url|\n",
    "| 2021-04-15        | 0.2     | Malika            | Updated the lab from USD to EUR    |\n",
    "| 2020-11-25        | 0.1     | Ramesh Sannareddy | Created initial version of the lab |\n"
   ]
  },
  {
   "cell_type": "markdown",
   "metadata": {},
   "source": [
    " Copyright © 2020 IBM Corporation. This notebook and its source code are released under the terms of the [MIT License](https://cognitiveclass.ai/mit-license?utm_medium=Exinfluencer&utm_source=Exinfluencer&utm_content=000026UJ&utm_term=10006555&utm_id=NA-SkillsNetwork-Channel-SkillsNetworkCoursesIBMDeveloperSkillsNetworkPY0221ENSkillsNetwork899-2023-01-01&cm_mmc=Email_Newsletter-_-Developer_Ed%2BTech-_-WW_WW-_-SkillsNetwork-Courses-IBM-DA0321EN-SkillsNetwork-21426264&cm_mmca1=000026UJ&cm_mmca2=10006555&cm_mmca3=M12345678&cvosrc=email.Newsletter.M12345678&cvo_campaign=000026UJ).\n"
   ]
  }
 ],
 "metadata": {
  "kernelspec": {
   "display_name": "Python 3",
   "language": "python",
   "name": "python3"
  },
  "language_info": {
   "codemirror_mode": {
    "name": "ipython",
    "version": 3
   },
   "file_extension": ".py",
   "mimetype": "text/x-python",
   "name": "python",
   "nbconvert_exporter": "python",
   "pygments_lexer": "ipython3",
   "version": "3.7.6"
  }
 },
 "nbformat": 4,
 "nbformat_minor": 4
}
